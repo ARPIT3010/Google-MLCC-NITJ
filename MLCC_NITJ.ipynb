{
 "cells": [
  {
   "cell_type": "markdown",
   "metadata": {},
   "source": [
    "![](https://i.imgur.com/2l6Xrks.png)\n",
    "\n",
    "# Google MLCC\n",
    "### Machine Learning Crash Course Study Jam (MLCC)\n",
    "\n",
    "One of the Google’s latest offerings in collaboration with NITI Aayog is MLCC Study Jams, It’s an opportunity for students to gain practical experience in ML and TensorFlow and to learn how to apply these learning in their projects. \n",
    "\n",
    "### Vision: \n",
    "A course  to help take people from minimal or no ML knowledge to a point where they can train simple linear or neural network models in TensorFlow. We aim to give them enough knowledge to understand various pitfalls, classic errors, and tradeoffs.\n",
    "\n",
    "### Course website: https://g.co/mledu/studyjams-IN\n",
    "\n"
   ]
  }
 ],
 "metadata": {
  "kernelspec": {
   "display_name": "Python 3",
   "language": "python",
   "name": "python3"
  },
  "language_info": {
   "codemirror_mode": {
    "name": "ipython",
    "version": 3
   },
   "file_extension": ".py",
   "mimetype": "text/x-python",
   "name": "python",
   "nbconvert_exporter": "python",
   "pygments_lexer": "ipython3",
   "version": "3.6.5"
  }
 },
 "nbformat": 4,
 "nbformat_minor": 2
}
