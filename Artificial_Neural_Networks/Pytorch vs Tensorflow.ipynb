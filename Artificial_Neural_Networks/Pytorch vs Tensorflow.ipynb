{
 "cells": [
  {
   "cell_type": "markdown",
   "metadata": {},
   "source": [
    "## Pytorch VS Tensorflow\n",
    "![](https://camo.githubusercontent.com/0b2b1f9adc71825aff636e392f0f3393b062786c/68747470733a2f2f646973637573732e7079746f7263682e6f72672f75706c6f6164732f64656661756c742f6f726967696e616c2f31582f623637363431313834653136613836663462306561653264613935663930663933303863343039622e706e67)\n",
    "\n",
    "### Let's compare pytorch with tensorflow\n",
    "\n",
    "### The Documentation\n",
    "\n",
    "* https://pytorch.org/tutorials/beginner/transfer_learning_tutorial.html\n",
    "* https://www.tensorflow.org/api_docs/\n",
    "* Both frameworks are well documented and are ready for professional use.\n",
    "* But Tensorflow wins. PyTorch limits function documentation to one page each\n",
    "\n",
    "### The Graph\n",
    "\n",
    "![](https://camo.githubusercontent.com/0e42b3b8b4c7ba10deed9abe6cb37a96ce50c4d2/687474703a2f2f646f6e736f66742e696f2f646565702d6c6561726e696e672d776974682d726e6e732f696d616765732f74656e736f72666c6f775f67726170685f6d61726b65642e706e67)\n",
    "\n",
    "* In TF, we need to create Session objects and Placeholders help in running the tensors defined.\n",
    "* In PyTorch, There’s no need to create any session objects.\n",
    "* Both are based on the idea of a DAG (Directed Acyclic Graph) — but internal graph working in PyTorch is taken care when forward() function is called and it works great for RNN models, since it’s dynamic graph creation. It’s called Dynamic Computational Graph (DCG).\n",
    "* With a static computation graph library like Tensorflow, once you have declaratively expressed your computation, you send it off to the GPU where it gets handled like a black box.\n",
    "* With a dynamic approach, you can fully dive into every level of the computation, and see exactly what is going on.\n",
    "\n",
    "![](https://camo.githubusercontent.com/8bd8230bac5d0b5b9a902aa9384b0b6647cfc013/68747470733a2f2f63646e2d696d616765732d312e6d656469756d2e636f6d2f6d61782f313630302f312a35504c49564e41356649714543382d6b5a3236304b512e676966)\n",
    "\n",
    "### Visualizations\n",
    "\n",
    "![](https://camo.githubusercontent.com/f0f03739a6b2a0e312f929759fab857856b7cf0c/68747470733a2f2f7777772e74656e736f72666c6f772e6f72672f696d616765732f6d6e6973745f74656e736f72626f6172642e706e67)\n",
    "\n",
    "* Visualisation support of Graphs is offered by TF which is great (Tensorboard).\n",
    "* PyTorch??\n",
    "* Tensorflow wins\n",
    "\n",
    "### Debugging\n",
    "\n",
    "* There’s a TF debugger called TFDBG, but it’s little off.\n",
    "* Relying on TF’s tensorboards’ viz features is best way to debug in TF.\n",
    "* Since, TF’s graph model exhibits static behavior, debugging is tough in TF as compared to PyTorch.\n",
    "* PyTorch wins"
   ]
  },
  {
   "cell_type": "markdown",
   "metadata": {},
   "source": [
    "## Conclusion\n",
    "\n",
    "TensorFlow is a good option if you:\n",
    "\n",
    "* Develop models for production\n",
    "* Develop models which need to be deployed on mobile platforms\n",
    "* Want good community support and comprehensive documentation\n",
    "* Want rich learning resources in various forms (TensorFlow has an an entire MOOC)\n",
    "* Want or need to use Tensorboard\n",
    "* Need to use large-scale distributed model training\n",
    "\n",
    "PyTorch is still a young framework which is getting momentum fast. You may find it a good fit if you:\n",
    "\n",
    "* Do research or your production non-functional requirements are not very demanding\n",
    "* Want better development and debugging experience\n",
    "* Love all things Pythonic\n",
    "\n",
    "https://towardsdatascience.com/pytorch-vs-tensorflow-spotting-the-difference-25c75777377b"
   ]
  },
  {
   "cell_type": "markdown",
   "metadata": {},
   "source": [
    "## Good Book to know about Neural Network\n",
    "\n",
    "http://neuralnetworksanddeeplearning.com/"
   ]
  }
 ],
 "metadata": {
  "kernelspec": {
   "display_name": "Python 3",
   "language": "python",
   "name": "python3"
  },
  "language_info": {
   "codemirror_mode": {
    "name": "ipython",
    "version": 3
   },
   "file_extension": ".py",
   "mimetype": "text/x-python",
   "name": "python",
   "nbconvert_exporter": "python",
   "pygments_lexer": "ipython3",
   "version": "3.6.5"
  }
 },
 "nbformat": 4,
 "nbformat_minor": 2
}
