{
 "cells": [
  {
   "cell_type": "markdown",
   "metadata": {},
   "source": [
    "## Simple Linear Regression\n",
    "\n",
    "* Establish if there is some relationship between two variables.\n",
    "    - More specifically, establish if there is a statistically significant relationship between the two.\n",
    "    - Example: Income and Spending, wage and gender, student height and exam score.\n",
    "\n",
    "* Forecast new observation\n",
    "    - Can we use what we know about the relationship to forecast unobserved values?\n",
    "    - Examples: What will are sales to be over the next quarter?\n",
    "\n"
   ]
  },
  {
   "cell_type": "markdown",
   "metadata": {},
   "source": [
    "Simple linear regression is useful for finding relationship between two continuous variables. One is predictor or independent variable and other is response or dependent variable. It looks for statistical relationship but not deterministic relationship. Relationship between two variables is said to be deterministic if one variable can be accurately expressed by the other. For example, using temperature in degree Celsius it is possible to accurately predict Fahrenheit. Statistical relationship is not accurate in determining relationship between two variables. For example, relationship between height and weight.\n",
    "\n",
    "<b>The core idea is to obtain a line that best fits the data. The best fit line is the one for which total prediction error (all data points) are as small as possible. Error is the distance between the point to the regression line.<b>"
   ]
  },
  {
   "cell_type": "markdown",
   "metadata": {},
   "source": [
    "$$\n",
    "\\hat{y}_i = w x_i + b\n",
    "$$\n",
    "\n",
    "The values w and b must be chosen so that they minimize the error. If sum of squared error is taken as a metric to evaluate the model, then goal to obtain a line that best reduces the error.\n",
    "\n",
    "![](https://cdn-images-1.medium.com/max/800/1*Utp8sgyLk7H39qOQY9pf1A.png)\n",
    "\n",
    "If we take mean squared error: \n",
    "\n",
    "$$\n",
    "\\frac{1}{n} \\sum_{i=1}^n(\\hat{y}_i - y_i)^2\n",
    "$$"
   ]
  },
  {
   "cell_type": "markdown",
   "metadata": {},
   "source": [
    "So, how do we minimize this error? Gradient descent is needed here . This is the first optimization algorithm we have come into contact with. It is very simple, but it is very powerful and is used extensively in deep learning. So let us understand the principle of gradient descent method from a simple example."
   ]
  },
  {
   "cell_type": "markdown",
   "metadata": {},
   "source": [
    "## Gradient Descent\n",
    "\n",
    "In the gradient descent method, we first need to clarify the concept of the gradient, and then we will understand how to use the gradient to reduce."
   ]
  },
  {
   "cell_type": "markdown",
   "metadata": {},
   "source": [
    "### Gradient\n",
    "\n",
    "The gradient is mathematically a derivative. If it is a multivariate function, the gradient is the partial derivative. For example, a function f(x, y), then the gradient of f is\n",
    "$$\n",
    "(\\frac{\\partial f}{\\partial x},\\ \\frac{\\partial f}{\\partial y})\n",
    "$$\n",
    "\n",
    "The following image is the gradient of $f(x) = x^2$ at x=1\n",
    "![](https://ws3.sinaimg.cn/large/006tNc79ly1fmarbuh2j3j30ba0b80sy.jpg)\n",
    "\n",
    "What is the meaning of the gradient? In a geometric sense, the gradient value of a point is the fastest change of this function. "
   ]
  },
  {
   "cell_type": "markdown",
   "metadata": {},
   "source": [
    "### Gradient Descent\n",
    "\n",
    "With an understanding of the gradient, we can understand the principle of gradient descent. Above we need to minimize this error, that is, we need to find the minimum point of this error, then we can find this minimum point along the opposite direction of the gradient.\n",
    "\n",
    "We can look at an intuitive explanation. For example, we are somewhere on a mountain. Because we don't know how to go down the mountain, we decided to take one step, that is, when we go to a position, solve the gradient of the current position, along the negative direction of the gradient. It is the current steepest position to go down one step, then continue to solve the current position gradient, and take a step along the steepest and most easy downhill position. This step by step, go all the way to think that we have reached the foot of the mountain. Of course, if we go on like this, we may not be able to go to the foot of the mountain, but to the low point of a certain local peak.\n",
    "\n",
    "The problem with our analogy is that along the opposite direction of the gradient, we constantly change the values ​​of w and b, and finally find the best set of w and b to minimize the error.\n",
    "\n",
    "At the time of the update, we need to decide the extent of each update. For example, in the downhill example, we need the length of the step that goes down each time. This length is called the learning rate. \n",
    "\n",
    "\n",
    "![](https://i.imgur.com/NG6kzAw.gif)"
   ]
  },
  {
   "cell_type": "markdown",
   "metadata": {},
   "source": [
    "You can see that the above learning rate is more appropriate, and the learning rate below is too large, which will lead to continuous beating.\n",
    "\n",
    "Finally, our update formula is\n",
    "\n",
    "$$\n",
    "w := w - \\eta \\frac{\\partial f(w,\\ b)}{\\partial w} \\\\\n",
    "b := b - \\eta \\frac{\\partial f(w,\\ b)}{\\partial b}\n",
    "$$\n",
    "\n",
    "By continually iteratively updating, we are finally able to find a set of optimal w and b, which is the principle of the gradient descent method.\n",
    "\n",
    "Finally, this method can be used to illustrate this method visually.\n",
    "\n",
    "\n",
    "![](http://www.xpertup.com/wp-content/uploads/2018/05/1-1.gif)"
   ]
  },
  {
   "cell_type": "markdown",
   "metadata": {},
   "source": [
    "### Example "
   ]
  },
  {
   "cell_type": "code",
   "execution_count": 57,
   "metadata": {},
   "outputs": [],
   "source": [
    "import numpy as np\n",
    "import matplotlib.pyplot as plt\n"
   ]
  },
  {
   "cell_type": "code",
   "execution_count": 58,
   "metadata": {},
   "outputs": [],
   "source": [
    "x_train = np.array([[3.3], [4.4], [5.5], [6.71], [6.93], [4.168],\n",
    "                    [9.779], [6.182], [7.59], [2.167], [7.042],\n",
    "                    [10.791], [5.313], [7.997], [3.1]], dtype=np.float32)\n",
    "\n",
    "y_train = np.array([[1.7], [2.76], [2.09], [3.19], [1.694], [1.573],\n",
    "                    [3.366], [2.596], [2.53], [1.221], [2.827],\n",
    "                    [3.465], [1.65], [2.904], [1.3]], dtype=np.float32)"
   ]
  },
  {
   "cell_type": "code",
   "execution_count": 59,
   "metadata": {
    "scrolled": true
   },
   "outputs": [
    {
     "data": {
      "text/plain": [
       "[<matplotlib.lines.Line2D at 0x1d5e3571be0>]"
      ]
     },
     "execution_count": 59,
     "metadata": {},
     "output_type": "execute_result"
    },
    {
     "data": {
      "image/png": "[encoded data removed]",
      "text/plain": [
       "<Figure size 432x288 with 1 Axes>"
      ]
     },
     "metadata": {},
     "output_type": "display_data"
    }
   ],
   "source": [
    "%matplotlib inline\n",
    "\n",
    "plt.plot(x_train, y_train, 'bo')"
   ]
  },
  {
   "cell_type": "code",
   "execution_count": 72,
   "metadata": {},
   "outputs": [],
   "source": [
    "# Define Parameter w & b\n",
    "np.random.seed(24)\n",
    "\n",
    "w = np.random.randn(1) # Random Initialize\n",
    "b = np.zeros(1) # Inititalize with 0"
   ]
  },
  {
   "cell_type": "code",
   "execution_count": 73,
   "metadata": {},
   "outputs": [],
   "source": [
    "def linear_model(x):\n",
    "    return x * w + b"
   ]
  },
  {
   "cell_type": "code",
   "execution_count": 74,
   "metadata": {},
   "outputs": [],
   "source": [
    "y = linear_model(x_train)"
   ]
  },
  {
   "cell_type": "code",
   "execution_count": 75,
   "metadata": {},
   "outputs": [
    {
     "data": {
      "text/plain": [
       "<matplotlib.legend.Legend at 0x1d5e3626f98>"
      ]
     },
     "execution_count": 75,
     "metadata": {},
     "output_type": "execute_result"
    },
    {
     "data": {
      "image/png": "[encoded data removed]",
      "text/plain": [
       "<Figure size 432x288 with 1 Axes>"
      ]
     },
     "metadata": {},
     "output_type": "display_data"
    }
   ],
   "source": [
    "plt.plot(x_train, y_train, 'bo', label='real')\n",
    "plt.plot(x_train, y, 'ro', label='estimated')\n",
    "plt.legend()"
   ]
  },
  {
   "cell_type": "markdown",
   "metadata": {},
   "source": [
    "Now we need to calculate Loss. \n",
    "\n",
    "\n",
    "$$\n",
    "\\frac{1}{n} \\sum_{i=1}^n(\\hat{y}_i - y_i)^2\n",
    "$$\n"
   ]
  },
  {
   "cell_type": "code",
   "execution_count": 76,
   "metadata": {},
   "outputs": [],
   "source": [
    "def get_loss(y, y_train):\n",
    "    return np.mean((y - y_train) ** 2)\n",
    "\n",
    "loss = get_loss(y, y_train)\n"
   ]
  },
  {
   "cell_type": "code",
   "execution_count": 77,
   "metadata": {},
   "outputs": [
    {
     "name": "stdout",
     "output_type": "stream",
     "text": [
      "39.42071297559014\n"
     ]
    }
   ],
   "source": [
    "print(loss)"
   ]
  },
  {
   "cell_type": "markdown",
   "metadata": {},
   "source": [
    "After defining the error function, we need to calculate the gradients of w and b. At this time we need to manually calculate the gradient. Interested Students can see implementation of gradient Descent here:"
   ]
  },
  {
   "cell_type": "code",
   "execution_count": 78,
   "metadata": {},
   "outputs": [],
   "source": [
    "#gradient descent \n",
    "def grad_descent(s_slope, s_intercept, l_rate, iter_val, x_train, y_train):\n",
    "    \n",
    "    for i in range(iter_val):\n",
    "        int_slope = 0\n",
    "        int_intercept = 0\n",
    "        n_pt = float(len(x_train))\n",
    "        \n",
    "        \n",
    "        for i in range(len(x_train)):\n",
    "            int_intercept += - (2/n_pt) * (y_train[i] - ((s_slope * x_train[i]) + s_intercept))\n",
    "            int_slope += - (2/n_pt) * x_train[i] * (y_train[i] - ((s_slope * x_train[i]) + s_intercept))\n",
    "            \n",
    "        final_slope = s_slope - (l_rate * int_slope)\n",
    "        final_intercept = s_intercept - (l_rate * int_intercept)\n",
    "        s_slope = final_slope\n",
    "        s_intercept = final_intercept\n",
    "        \n",
    "        \n",
    "    return  s_slope, s_intercept"
   ]
  },
  {
   "cell_type": "code",
   "execution_count": 79,
   "metadata": {},
   "outputs": [
    {
     "name": "stdout",
     "output_type": "stream",
     "text": [
      "Slope:[0.33732805], s_intercept: [0.20953935]\n"
     ]
    }
   ],
   "source": [
    "s_slope, s_intercept = grad_descent(0,0, 0.01, 100, x_train, y_train)\n",
    "\n",
    "print(\"Slope:{}, s_intercept: {}\".format(s_slope,s_intercept))\n"
   ]
  },
  {
   "cell_type": "code",
   "execution_count": 80,
   "metadata": {
    "scrolled": true
   },
   "outputs": [
    {
     "name": "stdout",
     "output_type": "stream",
     "text": [
      "[1.32921217]\n",
      "[0.]\n"
     ]
    }
   ],
   "source": [
    "print(w)\n",
    "print(b)"
   ]
  },
  {
   "cell_type": "code",
   "execution_count": 81,
   "metadata": {},
   "outputs": [],
   "source": [
    "# Update parameter once\n",
    "w = w - 1e-1 * s_slope\n",
    "b = b - 1e-1 * s_intercept"
   ]
  },
  {
   "cell_type": "markdown",
   "metadata": {},
   "source": [
    "After updating the completion parameters, let's take a look at the results of the model output again."
   ]
  },
  {
   "cell_type": "code",
   "execution_count": 82,
   "metadata": {},
   "outputs": [],
   "source": [
    "y = linear_model(x_train)"
   ]
  },
  {
   "cell_type": "code",
   "execution_count": 83,
   "metadata": {},
   "outputs": [
    {
     "name": "stdout",
     "output_type": "stream",
     "text": [
      "36.49013391273813\n"
     ]
    }
   ],
   "source": [
    "loss = get_loss(y, y_train)\n",
    "print(loss)"
   ]
  },
  {
   "cell_type": "code",
   "execution_count": 84,
   "metadata": {},
   "outputs": [
    {
     "data": {
      "text/plain": [
       "<matplotlib.legend.Legend at 0x1d5e3695828>"
      ]
     },
     "execution_count": 84,
     "metadata": {},
     "output_type": "execute_result"
    },
    {
     "data": {
      "image/png": "[encoded data removed]",
      "text/plain": [
       "<Figure size 432x288 with 1 Axes>"
      ]
     },
     "metadata": {},
     "output_type": "display_data"
    }
   ],
   "source": [
    "plt.plot(x_train, y_train, 'bo', label='real')\n",
    "plt.plot(x_train, y, 'ro', label='estimated')\n",
    "plt.legend()"
   ]
  },
  {
   "cell_type": "markdown",
   "metadata": {},
   "source": [
    "As you can see from the above example, after the update, the red line runs below the blue line. There is no particularly good fit to the true value of blue, so we need to update it several times."
   ]
  },
  {
   "cell_type": "code",
   "execution_count": 85,
   "metadata": {},
   "outputs": [
    {
     "name": "stdout",
     "output_type": "stream",
     "text": [
      "epoch: 0, loss: 33.67685116106322\n",
      "epoch: 1, loss: 30.980433156498634\n",
      "epoch: 2, loss: 28.400591045168717\n",
      "epoch: 3, loss: 25.937121556626675\n",
      "epoch: 4, loss: 23.589874293576013\n",
      "epoch: 5, loss: 21.35873290995687\n",
      "epoch: 6, loss: 19.243604413137714\n",
      "epoch: 7, loss: 17.244412200027796\n",
      "epoch: 8, loss: 15.361092887189017\n",
      "epoch: 9, loss: 13.593592950754813\n",
      "epoch: 10, loss: 11.941867735457382\n",
      "epoch: 11, loss: 10.405879494017507\n",
      "epoch: 12, loss: 8.985596533950478\n",
      "epoch: 13, loss: 7.68099237352727\n",
      "epoch: 14, loss: 6.492044952635643\n",
      "epoch: 15, loss: 5.418735869640619\n",
      "epoch: 16, loss: 4.461050069041005\n",
      "epoch: 17, loss: 3.6189749353426737\n",
      "epoch: 18, loss: 2.892500095624555\n",
      "epoch: 19, loss: 2.281617202991582\n"
     ]
    }
   ],
   "source": [
    "for e in range(20): # 10 updates\n",
    "    s_slope, s_intercept = grad_descent(s_slope, s_intercept, 0.01, 100, x_train, y_train)\n",
    "    w = w - 1e-1 * s_slope\n",
    "    b = b - 1e-1 * s_intercept\n",
    "    \n",
    "    y = linear_model(x_train)\n",
    "    loss = get_loss(y, y_train)\n",
    "    \n",
    "    print('epoch: {}, loss: {}'.format(e, loss))"
   ]
  },
  {
   "cell_type": "code",
   "execution_count": 86,
   "metadata": {},
   "outputs": [
    {
     "data": {
      "text/plain": [
       "<matplotlib.legend.Legend at 0x1d5e46c6e48>"
      ]
     },
     "execution_count": 86,
     "metadata": {},
     "output_type": "execute_result"
    },
    {
     "data": {
      "image/png": "[encoded data removed]",
      "text/plain": [
       "<Figure size 432x288 with 1 Axes>"
      ]
     },
     "metadata": {},
     "output_type": "display_data"
    }
   ],
   "source": [
    "y = linear_model(x_train)\n",
    "plt.plot(x_train, y_train, 'bo', label='real')\n",
    "plt.plot(x_train, y, 'ro', label='estimated')\n",
    "plt.legend()"
   ]
  },
  {
   "cell_type": "markdown",
   "metadata": {},
   "source": [
    "After 10 updates, we found that the red prediction results have been better fitted to the true value of blue.\n",
    "\n",
    "Now that you have learned your first machine learning model, keep working hard and complete the following small exercises."
   ]
  },
  {
   "cell_type": "markdown",
   "metadata": {},
   "source": [
    "#### Small exercise\n",
    "Restart the notebook and run the above linear regression model, but change the number of trainings and different learning rates to try to get different results."
   ]
  }
 ],
 "metadata": {
  "kernelspec": {
   "display_name": "Python 3",
   "language": "python",
   "name": "python3"
  },
  "language_info": {
   "codemirror_mode": {
    "name": "ipython",
    "version": 3
   },
   "file_extension": ".py",
   "mimetype": "text/x-python",
   "name": "python",
   "nbconvert_exporter": "python",
   "pygments_lexer": "ipython3",
   "version": "3.6.5"
  }
 },
 "nbformat": 4,
 "nbformat_minor": 2
}
